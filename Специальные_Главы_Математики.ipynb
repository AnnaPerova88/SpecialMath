{
  "nbformat": 4,
  "nbformat_minor": 0,
  "metadata": {
    "colab": {
      "provenance": []
    },
    "kernelspec": {
      "name": "python3",
      "display_name": "Python 3"
    },
    "language_info": {
      "name": "python"
    }
  },
  "cells": [
    {
      "cell_type": "code",
      "execution_count": 3,
      "metadata": {
        "colab": {
          "base_uri": "https://localhost:8080/"
        },
        "id": "IQBxOXI60kuJ",
        "outputId": "0f04091c-369d-4eb5-9488-f9f3893b90d0"
      },
      "outputs": [
        {
          "output_type": "execute_result",
          "data": {
            "text/plain": [
              "(2.2, 6.666666666666667, 2.25, 6.62)"
            ]
          },
          "metadata": {},
          "execution_count": 3
        }
      ],
      "source": [
        "# Решение задачи 1\n",
        "\n",
        "# Шаг 1: Выполняем необходимые вычисления поэтапно\n",
        "\n",
        "# Вычисляем 2.75 * (4/5)\n",
        "part1 = 2.75 * (4 / 5)\n",
        "\n",
        "# Вычисляем 1 2/3 ÷ 0.25\n",
        "# Преобразуем 1 2/3 в неправильную дробь: 1 2/3 = 5/3\n",
        "part2 = (5 / 3) / 0.25\n",
        "\n",
        "# Вычисляем 3.6 * (5/8)\n",
        "part3 = 3.6 * (5 / 8)\n",
        "\n",
        "# Полное выражение: (part1 + part2 - part3)\n",
        "result = part1 + part2 - part3\n",
        "\n",
        "# Округляем до сотых\n",
        "result_rounded = round(result, 2)\n",
        "\n",
        "# Выводим пошаговые вычисления и итоговый результат\n",
        "part1, part2, part3, result_rounded"
      ]
    },
    {
      "cell_type": "code",
      "source": [
        "# Решение задачи 2\n",
        "\n",
        "# Шаг 1: Вычисляем каждую часть выражения\n",
        "\n",
        "# Первая часть: |(-8) + 3^2|\n",
        "part1 = abs(-8 + 3**2)\n",
        "\n",
        "# Вторая часть: |(-2)^3 + 4|\n",
        "part2 = abs((-2)**3 + 4)\n",
        "\n",
        "# Третья часть: |6 - sqrt(49)|\n",
        "import math\n",
        "part3 = abs(6 - math.sqrt(49))\n",
        "\n",
        "# Полное выражение: part1 - part2 + part3\n",
        "result = part1 - part2 + part3\n",
        "\n",
        "# Выводим пошаговые вычисления и итоговый результат\n",
        "part1, part2, part3, result"
      ],
      "metadata": {
        "colab": {
          "base_uri": "https://localhost:8080/"
        },
        "id": "YvWSRRlX0pRa",
        "outputId": "b5a22957-386e-4092-813e-a5b81ee10376"
      },
      "execution_count": 4,
      "outputs": [
        {
          "output_type": "execute_result",
          "data": {
            "text/plain": [
              "(1, 4, 1.0, -2.0)"
            ]
          },
          "metadata": {},
          "execution_count": 4
        }
      ]
    },
    {
      "cell_type": "code",
      "source": [
        "# Решение задачи 3\n",
        "\n",
        "# Дано: n = 3\n",
        "\n",
        "# Выражение: (2^(2n) * 4^(n+1)) / (8^(n-1) * 16^n)\n",
        "# Шаг 1: Подставляем n = 3\n",
        "n = 3\n",
        "\n",
        "# Шаг 2: Вычисляем степени\n",
        "term1 = 2**(2 * n)                # 2^(2n)\n",
        "term2 = 4**(n + 1)                # 4^(n+1)\n",
        "term3 = 8**(n - 1)                # 8^(n-1)\n",
        "term4 = 16**n                     # 16^n\n",
        "\n",
        "# Выражение: (term1 * term2) / (term3 * term4)\n",
        "numerator = term1 * term2         # Числитель\n",
        "denominator = term3 * term4       # Знаменатель\n",
        "result = numerator / denominator  # Полное выражение\n",
        "\n",
        "# Выводим результаты\n",
        "term1, term2, term3, term4, result"
      ],
      "metadata": {
        "colab": {
          "base_uri": "https://localhost:8080/"
        },
        "id": "-d-hsGwC1DvL",
        "outputId": "c655821a-9bff-441b-f0f8-182435cbc202"
      },
      "execution_count": 5,
      "outputs": [
        {
          "output_type": "execute_result",
          "data": {
            "text/plain": [
              "(64, 256, 64, 4096, 0.0625)"
            ]
          },
          "metadata": {},
          "execution_count": 5
        }
      ]
    },
    {
      "cell_type": "code",
      "source": [
        "import math\n",
        "\n",
        "# Решение задачи 4 (с логарифмами)\n",
        "\n",
        "# Выражение: log2(32) - 1/2 * log4(16) + log16(2)\n",
        "\n",
        "# Шаг 1: Вычисляем log2(32)\n",
        "log2_32 = math.log2(32)  # логарифм по основанию 2\n",
        "\n",
        "# Шаг 2: Вычисляем 1/2 * log4(16)\n",
        "# Преобразуем log4(16) = log2(16) / log2(4)\n",
        "log4_16 = math.log2(16) / math.log2(4)  # логарифм по основанию 4\n",
        "term2 = 0.5 * log4_16\n",
        "\n",
        "# Шаг 3: Вычисляем log16(2)\n",
        "# Преобразуем log16(2) = log2(2) / log2(16)\n",
        "log16_2 = math.log2(2) / math.log2(16)\n",
        "\n",
        "# Итоговое выражение\n",
        "result = log2_32 - term2 + log16_2\n",
        "\n",
        "# Вывод результатов\n",
        "log2_32, log4_16, log16_2, result"
      ],
      "metadata": {
        "colab": {
          "base_uri": "https://localhost:8080/"
        },
        "id": "hXM192q_1TLI",
        "outputId": "48f3f128-383e-41bc-c325-b1de60f11652"
      },
      "execution_count": 6,
      "outputs": [
        {
          "output_type": "execute_result",
          "data": {
            "text/plain": [
              "(5.0, 2.0, 0.25, 4.25)"
            ]
          },
          "metadata": {},
          "execution_count": 6
        }
      ]
    },
    {
      "cell_type": "code",
      "source": [
        "# Решение задачи 5\n",
        "\n",
        "# Импортируем необходимые библиотеки\n",
        "import math\n",
        "\n",
        "# Шаг 1: Вычисляем первую часть: |2^3 - 5 * 2^2| / log2(16)\n",
        "# Числитель\n",
        "numerator = abs(2**3 - 5 * 2**2)\n",
        "\n",
        "# Знаменатель\n",
        "log2_16 = math.log2(16)\n",
        "\n",
        "# Результат первой части\n",
        "part1 = numerator / log2_16\n",
        "\n",
        "# Шаг 2: Вычисляем вторую часть: sqrt((1/2)^(-4))\n",
        "part2 = math.sqrt((1/2)**(-4))\n",
        "\n",
        "# Шаг 3: Вычисляем третью часть: -log4(1/16)\n",
        "# Преобразуем log4(1/16) = log2(1/16) / log2(4)\n",
        "log4_1_16 = math.log2(1/16) / math.log2(4)\n",
        "part3 = -log4_1_16\n",
        "\n",
        "# Итоговое выражение\n",
        "result = part1 + part2 + part3\n",
        "\n",
        "# Выводим промежуточные шаги и результат\n",
        "numerator, log2_16, part1, part2, log4_1_16, part3, result"
      ],
      "metadata": {
        "colab": {
          "base_uri": "https://localhost:8080/"
        },
        "id": "TfGXUgPE2Sho",
        "outputId": "94f7ed7f-1d51-414b-c805-2d2081d1294e"
      },
      "execution_count": 7,
      "outputs": [
        {
          "output_type": "execute_result",
          "data": {
            "text/plain": [
              "(12, 4.0, 3.0, 4.0, -2.0, 2.0, 9.0)"
            ]
          },
          "metadata": {},
          "execution_count": 7
        }
      ]
    },
    {
      "cell_type": "code",
      "source": [
        "# Решение задачи 6\n",
        "\n",
        "from sympy import symbols, Eq, expand, solve\n",
        "\n",
        "# Определяем переменную\n",
        "x = symbols('x')\n",
        "\n",
        "# Заданное уравнение\n",
        "equation = Eq((x - 2) * (x + 4), x**2 - 5)\n",
        "\n",
        "# Раскрываем скобки для левой части\n",
        "expanded_left = expand((x - 2) * (x + 4))\n",
        "\n",
        "# Решаем уравнение\n",
        "solution = solve(equation, x)\n",
        "\n",
        "expanded_left, solution"
      ],
      "metadata": {
        "colab": {
          "base_uri": "https://localhost:8080/"
        },
        "id": "jDjselj52iKJ",
        "outputId": "e00e6453-42e7-4c04-b9e6-7caaef158fc9"
      },
      "execution_count": 8,
      "outputs": [
        {
          "output_type": "execute_result",
          "data": {
            "text/plain": [
              "(x**2 + 2*x - 8, [3/2])"
            ]
          },
          "metadata": {},
          "execution_count": 8
        }
      ]
    },
    {
      "cell_type": "code",
      "source": [
        "# Задание 7\n",
        "\n",
        "from sympy import symbols, Eq, solve, simplify\n",
        "\n",
        "# Определяем переменные\n",
        "x, y = symbols('x y')\n",
        "\n",
        "# Задаем уравнения системы\n",
        "eq1 = Eq(2 * (3 * x - 4) - 5 * ((y + 2) - 3), 0)\n",
        "eq2 = Eq((2 * x - (y - 1)) + 3 * (2 * y + 1), 20)\n",
        "\n",
        "# Упрощаем уравнения для удобства\n",
        "eq1_simplified = simplify(eq1)\n",
        "eq2_simplified = simplify(eq2)\n",
        "\n",
        "# Решаем систему уравнений\n",
        "solution = solve((eq1, eq2), (x, y))\n",
        "\n",
        "eq1_simplified, eq2_simplified, solution"
      ],
      "metadata": {
        "colab": {
          "base_uri": "https://localhost:8080/"
        },
        "id": "2GMMG98B22aT",
        "outputId": "d2346f9b-6ac7-46f6-ee82-e47e22a52317"
      },
      "execution_count": 9,
      "outputs": [
        {
          "output_type": "execute_result",
          "data": {
            "text/plain": [
              "(Eq(6*x - 5*y, 3), Eq(2*x + 5*y, 16), {x: 19/8, y: 9/4})"
            ]
          },
          "metadata": {},
          "execution_count": 9
        }
      ]
    },
    {
      "cell_type": "code",
      "source": [
        "# Задание 8\n",
        "\n",
        "from sympy import symbols, Eq, solve\n",
        "\n",
        "# Определяем переменную\n",
        "x = symbols('x')\n",
        "\n",
        "# Уравнение\n",
        "equation = Eq(x**3 - 4*x**2 + x + 6, 0)\n",
        "\n",
        "# Решение\n",
        "roots = solve(equation, x)\n",
        "\n",
        "# Выводим корни\n",
        "roots"
      ],
      "metadata": {
        "colab": {
          "base_uri": "https://localhost:8080/"
        },
        "id": "0uqyCDUE3X8l",
        "outputId": "dae34d12-65da-41eb-efe5-03bb513412f1"
      },
      "execution_count": 10,
      "outputs": [
        {
          "output_type": "execute_result",
          "data": {
            "text/plain": [
              "[-1, 2, 3]"
            ]
          },
          "metadata": {},
          "execution_count": 10
        }
      ]
    },
    {
      "cell_type": "code",
      "source": [
        "# Задание 9\n",
        "\n",
        "from sympy import symbols, simplify, solve_univariate_inequality, Eq\n",
        "\n",
        "# Определяем переменную\n",
        "x = symbols('x')\n",
        "\n",
        "# Неравенство\n",
        "inequality = (5*x - 2)/3 - (2*x + 4)/2 > (7*x - 5)/4 + (x + 6)/3\n",
        "\n",
        "# Преобразуем и решаем неравенство\n",
        "solution = solve_univariate_inequality(simplify(inequality), x)\n",
        "\n",
        "# Вывод решения\n",
        "solution"
      ],
      "metadata": {
        "colab": {
          "base_uri": "https://localhost:8080/",
          "height": 51
        },
        "id": "EyG5yIpx4GNv",
        "outputId": "13ad82db-29bb-4b89-84b6-2e88054467e6"
      },
      "execution_count": 11,
      "outputs": [
        {
          "output_type": "execute_result",
          "data": {
            "text/plain": [
              "(-oo < x) & (x < -41/17)"
            ],
            "text/latex": "$\\displaystyle -\\infty < x \\wedge x < - \\frac{41}{17}$"
          },
          "metadata": {},
          "execution_count": 11
        }
      ]
    },
    {
      "cell_type": "code",
      "source": [
        "# Задание 10\n",
        "\n",
        "from sympy import symbols, factor\n",
        "\n",
        "# Определяем переменную\n",
        "x = symbols('x')\n",
        "\n",
        "# Многочлен\n",
        "polynomial = x**3 - 3*x**2 - 4*x + 12\n",
        "\n",
        "# Разложение на множители\n",
        "factored = factor(polynomial)\n",
        "\n",
        "# Вывод разложения\n",
        "factored"
      ],
      "metadata": {
        "colab": {
          "base_uri": "https://localhost:8080/",
          "height": 39
        },
        "id": "_v61lxtN4lEN",
        "outputId": "3ee79820-240b-4cc4-a914-ef4e70fc79fb"
      },
      "execution_count": 12,
      "outputs": [
        {
          "output_type": "execute_result",
          "data": {
            "text/plain": [
              "(x - 3)*(x - 2)*(x + 2)"
            ],
            "text/latex": "$\\displaystyle \\left(x - 3\\right) \\left(x - 2\\right) \\left(x + 2\\right)$"
          },
          "metadata": {},
          "execution_count": 12
        }
      ]
    },
    {
      "cell_type": "code",
      "source": [
        "# задание 11\n",
        "\n",
        "import math\n",
        "\n",
        "# Перестановки 4 элементов\n",
        "perm_4 = math.factorial(4)\n",
        "\n",
        "# Перестановки 2 книг внутри группы\n",
        "perm_2 = math.factorial(2)\n",
        "\n",
        "# Общее количество способов\n",
        "result_11 = perm_4 * perm_2\n",
        "result_11"
      ],
      "metadata": {
        "colab": {
          "base_uri": "https://localhost:8080/"
        },
        "id": "xru3hRfN4vE6",
        "outputId": "0e06bebb-77c1-420f-e74f-e01d23d681a7"
      },
      "execution_count": 13,
      "outputs": [
        {
          "output_type": "execute_result",
          "data": {
            "text/plain": [
              "48"
            ]
          },
          "metadata": {},
          "execution_count": 13
        }
      ]
    },
    {
      "cell_type": "code",
      "source": [
        "# Задание 12\n",
        "\n",
        "# Вероятности\n",
        "p1_working = 1 - 0.1  # Первый телефон работает\n",
        "p2_working = 1 - 0.3  # Второй телефон работает\n",
        "\n",
        "# Вероятность, что оба работают\n",
        "result_12 = p1_working * p2_working\n",
        "result_12"
      ],
      "metadata": {
        "colab": {
          "base_uri": "https://localhost:8080/"
        },
        "id": "qnAa68lc5IIn",
        "outputId": "73507acb-205d-4176-b3e7-1fe3ba7f5a39"
      },
      "execution_count": 14,
      "outputs": [
        {
          "output_type": "execute_result",
          "data": {
            "text/plain": [
              "0.63"
            ]
          },
          "metadata": {},
          "execution_count": 14
        }
      ]
    },
    {
      "cell_type": "code",
      "source": [
        "# Задание 13\n",
        "\n",
        "import math\n",
        "\n",
        "\n",
        "# Число яблок, оставшихся для распределения\n",
        "n = 6\n",
        "# Число детей\n",
        "k = 4\n",
        "\n",
        "# Число способов распределения\n",
        "result_13 = math.comb(n + k - 1, k - 1)\n",
        "result_13"
      ],
      "metadata": {
        "colab": {
          "base_uri": "https://localhost:8080/"
        },
        "id": "KzKMiyMv5RL6",
        "outputId": "f96d7db0-61bb-4c5e-dcaf-147d14613106"
      },
      "execution_count": 15,
      "outputs": [
        {
          "output_type": "execute_result",
          "data": {
            "text/plain": [
              "84"
            ]
          },
          "metadata": {},
          "execution_count": 15
        }
      ]
    },
    {
      "cell_type": "code",
      "source": [
        "# Задание 14\n",
        "\n",
        "import math\n",
        "\n",
        "# Количество вопросов и выбираемых\n",
        "n = 10\n",
        "k = 5\n",
        "\n",
        "# Число размещений\n",
        "result_14 = math.perm(n, k)\n",
        "result_14"
      ],
      "metadata": {
        "colab": {
          "base_uri": "https://localhost:8080/"
        },
        "id": "yba_2YKf5Z30",
        "outputId": "de7dfb08-8de3-4231-ef0e-64a3d2ac85cc"
      },
      "execution_count": 16,
      "outputs": [
        {
          "output_type": "execute_result",
          "data": {
            "text/plain": [
              "30240"
            ]
          },
          "metadata": {},
          "execution_count": 16
        }
      ]
    },
    {
      "cell_type": "code",
      "source": [
        "# Задание 15\n",
        "\n",
        "import math\n",
        "\n",
        "# Данные\n",
        "n = 6  # Количество бросков\n",
        "k = 4  # Количество успешных исходов\n",
        "p = 0.5  # Вероятность успеха\n",
        "\n",
        "# Сочетания C(n, k)\n",
        "combinations = math.comb(n, k)\n",
        "\n",
        "# Вероятность\n",
        "probability = combinations * (p**k) * ((1 - p)**(n - k))\n",
        "probability"
      ],
      "metadata": {
        "colab": {
          "base_uri": "https://localhost:8080/"
        },
        "id": "ATT-wzJd5l4l",
        "outputId": "a9eb13ee-35b9-456b-acb9-402747641813"
      },
      "execution_count": 17,
      "outputs": [
        {
          "output_type": "execute_result",
          "data": {
            "text/plain": [
              "0.234375"
            ]
          },
          "metadata": {},
          "execution_count": 17
        }
      ]
    },
    {
      "cell_type": "code",
      "source": [
        "# Решение задачи 16.1, 16.2, 16.3 в Colab\n",
        "import numpy as np\n",
        "import matplotlib.pyplot as plt\n",
        "from sympy import symbols, log, sqrt, solve, Interval, Union\n",
        "from sympy.abc import x\n",
        "\n",
        "# 16.1. Найти область определения функции\n",
        "# Функция: f(x) = sqrt(ln(x^2 - 1) / (x - 2))\n",
        "\n",
        "# Условия для области определения:\n",
        "# 1. x^2 - 1 > 0 (подлогарифмическое выражение должно быть > 0)\n",
        "# 2. x - 2 != 0 (знаменатель не равен 0)\n",
        "\n",
        "# Условие 1\n",
        "domain_condition_1 = solve(x**2 - 1 > 0, x)  # Решаем x^2 - 1 > 0\n",
        "\n",
        "# Условие 2\n",
        "domain_condition_2 = x - 2  # Знаменатель x - 2 != 0\n",
        "\n",
        "# Объединяем область определения\n",
        "final_domain = Union(Interval.open(-np.inf, -1), Interval.open(1, 2), Interval.open(2, np.inf))\n",
        "print(f\"Область определения функции: {final_domain}\")\n",
        "\n",
        "# 16.2. Найти область значений функции\n",
        "# Область значений зависит от sqrt(ln(x^2 - 1) / (x - 2))\n",
        "# Значения ln(x^2 - 1) > 0 при области определения\n",
        "# Подкоренное выражение всегда >= 0\n",
        "\n",
        "# Проверяем поведение функции\n",
        "asymptotes = solve(x - 2, x)\n",
        "print(f\"Асимптота функции: x = {asymptotes}\")\n",
        "\n",
        "# Область значений:\n",
        "range_values = \"[0, \\u221E)\"\n",
        "print(f\"Область значений функции: {range_values}\")\n",
        "\n",
        "# 16.3. Определить четность функции\n",
        "# Проверяем f(-x):\n",
        "def f_expression(x_val):\n",
        "    return sqrt(log(x_val**2 - 1) / (x_val - 2))\n",
        "\n",
        "# Сравним f(-x) и f(x):\n",
        "from sympy import simplify\n",
        "f_neg_x = simplify(sqrt(log((-x)**2 - 1) / (-x - 2)))\n",
        "f_x = simplify(sqrt(log(x**2 - 1) / (x - 2)))\n",
        "\n",
        "if f_neg_x == f_x:\n",
        "    parity = \"Четная\"\n",
        "elif f_neg_x == -f_x:\n",
        "    parity = \"Нечетная\"\n",
        "else:\n",
        "    parity = \"Не является ни четной, ни нечетной\"\n",
        "\n",
        "print(f\"Функция: {parity}\")\n"
      ],
      "metadata": {
        "colab": {
          "base_uri": "https://localhost:8080/"
        },
        "id": "mVPLLogODuVk",
        "outputId": "5442a263-f2bb-4a14-c1c0-17b1bf0c990d"
      },
      "execution_count": 22,
      "outputs": [
        {
          "output_type": "stream",
          "name": "stdout",
          "text": [
            "Область определения функции: Union(Interval.open(-oo, -1), Interval.open(1, 2), Interval.open(2, oo))\n",
            "Асимптота функции: x = [2]\n",
            "Область значений функции: [0, ∞)\n",
            "Функция: Не является ни четной, ни нечетной\n"
          ]
        }
      ]
    },
    {
      "cell_type": "code",
      "source": [
        "\n",
        "# Решение задачи 17\n",
        "import sympy as sp\n",
        "\n",
        "# Задача 17\n",
        "# Дано:\n",
        "tan_BAC = 7 / 24\n",
        "\n",
        "# Найдем cos(BAH):\n",
        "def find_cos_BAC():\n",
        "    tan_value = 7 / 24\n",
        "    sin_value = 7 / sp.sqrt(7**2 + 24**2)\n",
        "    cos_value = 24 / sp.sqrt(7**2 + 24**2)\n",
        "    return cos_value\n",
        "\n",
        "cos_BAH = find_cos_BAC()\n",
        "print(f\"Косинус угла BAH: {cos_BAH}\")\n",
        "\n"
      ],
      "metadata": {
        "colab": {
          "base_uri": "https://localhost:8080/"
        },
        "id": "dDJKnBXOMW4Q",
        "outputId": "fa63f303-b8d1-4377-f00e-0063367afd11"
      },
      "execution_count": 23,
      "outputs": [
        {
          "output_type": "stream",
          "name": "stdout",
          "text": [
            "Косинус угла BAH: 24/25\n"
          ]
        }
      ]
    },
    {
      "cell_type": "code",
      "source": [
        "# Задача 18\n",
        "# Дано:\n",
        "a = 9\n",
        "b = 5\n",
        "h_a = 10\n",
        "\n",
        "# Площадь треугольника:\n",
        "def triangle_area(a, h_a):\n",
        "    return 0.5 * a * h_a\n",
        "\n",
        "S = triangle_area(a, h_a)\n",
        "\n",
        "# Найдем высоту h_b:\n",
        "def find_h_b(S, b):\n",
        "    return (2 * S) / b\n",
        "\n",
        "h_b = find_h_b(S, b)\n",
        "print(f\"Высота, проведенная к стороне b: {h_b}\")\n"
      ],
      "metadata": {
        "colab": {
          "base_uri": "https://localhost:8080/"
        },
        "id": "XrGeNuADMy9V",
        "outputId": "5c3faa5d-b383-4f0d-a8a1-b448929fa6d9"
      },
      "execution_count": 24,
      "outputs": [
        {
          "output_type": "stream",
          "name": "stdout",
          "text": [
            "Высота, проведенная к стороне b: 18.0\n"
          ]
        }
      ]
    },
    {
      "cell_type": "code",
      "source": [
        "# Решение задачи 19\n",
        "import math\n",
        "\n",
        "# Задача 19: Найти объем пирамиды\n",
        "a = 1  # сторона основания\n",
        "h = math.sqrt(3)  # высота пирамиды\n",
        "\n",
        "# Площадь основания (правильный треугольник)\n",
        "S = (math.sqrt(3) / 4) * a**2\n",
        "\n",
        "# Объем пирамиды\n",
        "V = (1 / 3) * S * h\n",
        "print(f\"Объем пирамиды: {V}\")\n"
      ],
      "metadata": {
        "colab": {
          "base_uri": "https://localhost:8080/"
        },
        "id": "QAXaqId9M0Tc",
        "outputId": "09ba5fcc-66d2-47ad-c348-500dd9dc262a"
      },
      "execution_count": 27,
      "outputs": [
        {
          "output_type": "stream",
          "name": "stdout",
          "text": [
            "Объем пирамиды: 0.24999999999999997\n"
          ]
        }
      ]
    },
    {
      "cell_type": "code",
      "source": [
        "\n",
        "# Задача 20: Найти периметр трапеции\n",
        "a = 12  # нижнее основание\n",
        "b = 27  # верхнее основание\n",
        "angle = 60  # острый угол в градусах\n",
        "\n",
        "# Высота трапеции\n",
        "h = (b - a) * math.tan(math.radians(angle))\n",
        "\n",
        "# Длина боковой стороны\n",
        "l = h / math.sin(math.radians(angle))\n",
        "\n",
        "# Периметр трапеции\n",
        "P = a + b + 2 * l\n",
        "print(f\"Периметр трапеции: {P}\")"
      ],
      "metadata": {
        "colab": {
          "base_uri": "https://localhost:8080/"
        },
        "id": "SvxTcKhJNzDq",
        "outputId": "543187fb-a938-4d2f-87a5-d2f4398f5004"
      },
      "execution_count": 26,
      "outputs": [
        {
          "output_type": "stream",
          "name": "stdout",
          "text": [
            "Периметр трапеции: 98.99999999999999\n"
          ]
        }
      ]
    }
  ]
}